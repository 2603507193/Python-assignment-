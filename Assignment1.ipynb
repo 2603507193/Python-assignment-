{
 "cells": [
  {
   "cell_type": "code",
   "execution_count": 1,
   "metadata": {},
   "outputs": [
    {
     "name": "stdout",
     "output_type": "stream",
     "text": [
      "<class 'pandas.core.frame.DataFrame'>\n",
      "Int64Index: 20843 entries, 0 to 22222\n",
      "Data columns (total 88 columns):\n",
      "AGE                    20843 non-null int32\n",
      "BILL                   20843 non-null float64\n",
      "ORGYN                  20843 non-null int64\n",
      "AFFL                   20843 non-null float64\n",
      "LTIME                  20843 non-null float64\n",
      "TV_REG_Border          20843 non-null uint8\n",
      "TV_REG_C Scotland      20843 non-null uint8\n",
      "TV_REG_East            20843 non-null uint8\n",
      "TV_REG_London          20843 non-null uint8\n",
      "TV_REG_Midlands        20843 non-null uint8\n",
      "TV_REG_N East          20843 non-null uint8\n",
      "TV_REG_N Scot          20843 non-null uint8\n",
      "TV_REG_N West          20843 non-null uint8\n",
      "TV_REG_S & S East      20843 non-null uint8\n",
      "TV_REG_S West          20843 non-null uint8\n",
      "TV_REG_Wales & West    20843 non-null uint8\n",
      "TV_REG_Yorkshire       20843 non-null uint8\n",
      "NGROUP_A               20843 non-null uint8\n",
      "NGROUP_B               20843 non-null uint8\n",
      "NGROUP_C               20843 non-null uint8\n",
      "NGROUP_D               20843 non-null uint8\n",
      "NGROUP_E               20843 non-null uint8\n",
      "NGROUP_F               20843 non-null uint8\n",
      "NGROUP_U               20843 non-null uint8\n",
      "NEIGHBORHOOD_1.0       20843 non-null uint8\n",
      "NEIGHBORHOOD_10.0      20843 non-null uint8\n",
      "NEIGHBORHOOD_11.0      20843 non-null uint8\n",
      "NEIGHBORHOOD_12.0      20843 non-null uint8\n",
      "NEIGHBORHOOD_13.0      20843 non-null uint8\n",
      "NEIGHBORHOOD_14.0      20843 non-null uint8\n",
      "NEIGHBORHOOD_15.0      20843 non-null uint8\n",
      "NEIGHBORHOOD_16.0      20843 non-null uint8\n",
      "NEIGHBORHOOD_17.0      20843 non-null uint8\n",
      "NEIGHBORHOOD_18.0      20843 non-null uint8\n",
      "NEIGHBORHOOD_19.0      20843 non-null uint8\n",
      "NEIGHBORHOOD_2.0       20843 non-null uint8\n",
      "NEIGHBORHOOD_20.0      20843 non-null uint8\n",
      "NEIGHBORHOOD_21.0      20843 non-null uint8\n",
      "NEIGHBORHOOD_22.0      20843 non-null uint8\n",
      "NEIGHBORHOOD_23.0      20843 non-null uint8\n",
      "NEIGHBORHOOD_24.0      20843 non-null uint8\n",
      "NEIGHBORHOOD_25.0      20843 non-null uint8\n",
      "NEIGHBORHOOD_26.0      20843 non-null uint8\n",
      "NEIGHBORHOOD_27.0      20843 non-null uint8\n",
      "NEIGHBORHOOD_28.0      20843 non-null uint8\n",
      "NEIGHBORHOOD_29.0      20843 non-null uint8\n",
      "NEIGHBORHOOD_3.0       20843 non-null uint8\n",
      "NEIGHBORHOOD_30.0      20843 non-null uint8\n",
      "NEIGHBORHOOD_31.0      20843 non-null uint8\n",
      "NEIGHBORHOOD_32.0      20843 non-null uint8\n",
      "NEIGHBORHOOD_33.0      20843 non-null uint8\n",
      "NEIGHBORHOOD_34.0      20843 non-null uint8\n",
      "NEIGHBORHOOD_35.0      20843 non-null uint8\n",
      "NEIGHBORHOOD_36.0      20843 non-null uint8\n",
      "NEIGHBORHOOD_37.0      20843 non-null uint8\n",
      "NEIGHBORHOOD_38.0      20843 non-null uint8\n",
      "NEIGHBORHOOD_39.0      20843 non-null uint8\n",
      "NEIGHBORHOOD_4.0       20843 non-null uint8\n",
      "NEIGHBORHOOD_40.0      20843 non-null uint8\n",
      "NEIGHBORHOOD_41.0      20843 non-null uint8\n",
      "NEIGHBORHOOD_42.0      20843 non-null uint8\n",
      "NEIGHBORHOOD_43.0      20843 non-null uint8\n",
      "NEIGHBORHOOD_44.0      20843 non-null uint8\n",
      "NEIGHBORHOOD_45.0      20843 non-null uint8\n",
      "NEIGHBORHOOD_46.0      20843 non-null uint8\n",
      "NEIGHBORHOOD_47.0      20843 non-null uint8\n",
      "NEIGHBORHOOD_48.0      20843 non-null uint8\n",
      "NEIGHBORHOOD_49.0      20843 non-null uint8\n",
      "NEIGHBORHOOD_5.0       20843 non-null uint8\n",
      "NEIGHBORHOOD_50.0      20843 non-null uint8\n",
      "NEIGHBORHOOD_51.0      20843 non-null uint8\n",
      "NEIGHBORHOOD_52.0      20843 non-null uint8\n",
      "NEIGHBORHOOD_53.0      20843 non-null uint8\n",
      "NEIGHBORHOOD_54.0      20843 non-null uint8\n",
      "NEIGHBORHOOD_55.0      20843 non-null uint8\n",
      "NEIGHBORHOOD_6.0       20843 non-null uint8\n",
      "NEIGHBORHOOD_7.0       20843 non-null uint8\n",
      "NEIGHBORHOOD_8.0       20843 non-null uint8\n",
      "NEIGHBORHOOD_9.0       20843 non-null uint8\n",
      "REGION_Midlands        20843 non-null uint8\n",
      "REGION_North           20843 non-null uint8\n",
      "REGION_Scottish        20843 non-null uint8\n",
      "REGION_South East      20843 non-null uint8\n",
      "REGION_South West      20843 non-null uint8\n",
      "CLASS_Gold             20843 non-null uint8\n",
      "CLASS_Platinum         20843 non-null uint8\n",
      "CLASS_Silver           20843 non-null uint8\n",
      "CLASS_Tin              20843 non-null uint8\n",
      "dtypes: float64(3), int32(1), int64(1), uint8(83)\n",
      "memory usage: 2.5 MB\n",
      "None\n"
     ]
    }
   ],
   "source": [
    "from sklearn.model_selection import train_test_split\n",
    "from data_preprocessing import data_prep\n",
    "df = data_prep()\n",
    "print(df.info())"
   ]
  },
  {
   "cell_type": "code",
   "execution_count": 2,
   "metadata": {},
   "outputs": [],
   "source": [
    "#TARGET/IMPUT SPLIT\n",
    "y = df[\"ORGYN\"]\n",
    "X = df.drop([\"ORGYN\"], axis = 1)\n",
    "\n",
    "#SETTING RANDOM STATE\n",
    "rs = 10\n",
    "\n",
    "#DATA PARTITION\n",
    "X_mat = X.as_matrix()\n",
    "X_train, X_test, y_train, y_test = train_test_split(X_mat, y, test_size = 0.3, stratify = y, random_state = rs)"
   ]
  },
  {
   "cell_type": "code",
   "execution_count": 3,
   "metadata": {},
   "outputs": [
    {
     "data": {
      "text/plain": [
       "DecisionTreeClassifier(class_weight=None, criterion='gini', max_depth=None,\n",
       "            max_features=None, max_leaf_nodes=None,\n",
       "            min_impurity_decrease=0.0, min_impurity_split=None,\n",
       "            min_samples_leaf=1, min_samples_split=2,\n",
       "            min_weight_fraction_leaf=0.0, presort=False, random_state=10,\n",
       "            splitter='best')"
      ]
     },
     "execution_count": 3,
     "metadata": {},
     "output_type": "execute_result"
    }
   ],
   "source": [
    "from sklearn.tree import DecisionTreeClassifier\n",
    "from sklearn.metrics import classification_report, accuracy_score\n",
    "\n",
    "#SIMPLE DECISION TREE TRAINING\n",
    "model = DecisionTreeClassifier(random_state = rs)\n",
    "model.fit(X_train, y_train)"
   ]
  },
  {
   "cell_type": "code",
   "execution_count": 30,
   "metadata": {},
   "outputs": [
    {
     "name": "stdout",
     "output_type": "stream",
     "text": [
      "Train accuracy 0.9211788896504455\n",
      "Test accuracy 0.7615544538621462\n",
      "             precision    recall  f1-score   support\n",
      "\n",
      "          0       0.82      0.88      0.85      4713\n",
      "          1       0.52      0.40      0.46      1540\n",
      "\n",
      "avg / total       0.75      0.76      0.75      6253\n",
      "\n"
     ]
    }
   ],
   "source": [
    "print(\"Train accuracy\", model.score(X_train, y_train))\n",
    "print(\"Test accuracy\", model.score(X_test, y_test))\n",
    "\n",
    "y_pred = model.predict(X_test)\n",
    "print(classification_report(y_test, y_pred))"
   ]
  },
  {
   "cell_type": "code",
   "execution_count": 6,
   "metadata": {},
   "outputs": [
    {
     "name": "stdout",
     "output_type": "stream",
     "text": [
      "AGE : 0.27896163818724967\n",
      "AFFL : 0.1375183953702538\n",
      "BILL : 0.09772346103258264\n",
      "LTIME : 0.09078717503397662\n",
      "CLASS_Tin : 0.01315417748552768\n"
     ]
    }
   ],
   "source": [
    "import numpy as np \n",
    "importances = model.feature_importances_\n",
    "feature_names = X.columns\n",
    "\n",
    "indices = np.argsort(importances)\n",
    "indices = np.flip(indices, axis = 0)\n",
    "\n",
    "indices = indices[:5]\n",
    "\n",
    "for i in indices:\n",
    "    print(feature_names[i], \":\", importances[i])"
   ]
  },
  {
   "cell_type": "code",
   "execution_count": 35,
   "metadata": {},
   "outputs": [
    {
     "ename": "SyntaxError",
     "evalue": "invalid syntax (<ipython-input-35-10f311b04de0>, line 1)",
     "output_type": "error",
     "traceback": [
      "\u001b[1;36m  File \u001b[1;32m\"<ipython-input-35-10f311b04de0>\"\u001b[1;36m, line \u001b[1;32m1\u001b[0m\n\u001b[1;33m    model = DecisionTreeClassifier(max_depth = ,random_state = rs)\u001b[0m\n\u001b[1;37m                                               ^\u001b[0m\n\u001b[1;31mSyntaxError\u001b[0m\u001b[1;31m:\u001b[0m invalid syntax\n"
     ]
    }
   ],
   "source": [
    "model = DecisionTreeClassifier(max_depth = ,random_state = rs)\n",
    "model.fit(X_train, y_train)\n",
    "\n",
    "print(\"Train accuracy:\", model.score(X_train, y_train))\n",
    "print(\"Test accuracy:\", model.score(X_test, y_test))\n",
    "\n",
    "y_pred = model.predict(X_test)\n",
    "print(classification_report(y_test, y_pred))"
   ]
  },
  {
   "cell_type": "code",
   "execution_count": 36,
   "metadata": {},
   "outputs": [
    {
     "name": "stdout",
     "output_type": "stream",
     "text": [
      "AGE : 0.32185548606890746\n",
      "AFFL : 0.1750537479503976\n",
      "BILL : 0.09643217379600698\n",
      "LTIME : 0.07137429756799579\n",
      "TV_REG_Midlands : 0.01204123280401711\n",
      "dot: graph is too large for cairo-renderer bitmaps. Scaling by 0.428747 to fit\n",
      "\n"
     ]
    },
    {
     "data": {
      "text/plain": [
       "True"
      ]
     },
     "execution_count": 36,
     "metadata": {},
     "output_type": "execute_result"
    }
   ],
   "source": [
    "importances = model.feature_importances_\n",
    "feature_names = X.columns\n",
    "\n",
    "indices = np.argsort(importances)\n",
    "indices = np.flip(indices, axis = 0)\n",
    "\n",
    "indices = indices[:5]\n",
    "\n",
    "for i in indices:\n",
    "    print(feature_names[i], \":\", importances[i])\n",
    "\n",
    "#DT VISUALIZATION\n",
    "import pydot \n",
    "from io import StringIO\n",
    "from sklearn.tree import export_graphviz\n",
    "\n",
    "dotfile = StringIO()\n",
    "export_graphviz(model, out_file = dotfile, feature_names = X.columns)\n",
    "graph = pydot.graph_from_dot_data(dotfile.getvalue())\n",
    "graph.write_png(\"assignment_dt.png\")"
   ]
  },
  {
   "cell_type": "code",
   "execution_count": 37,
   "metadata": {},
   "outputs": [
    {
     "data": {
      "image/png": "[encoded data removed]",
      "text/plain": [
       "<matplotlib.figure.Figure at 0x171e5de50f0>"
      ]
     },
     "metadata": {},
     "output_type": "display_data"
    }
   ],
   "source": [
    "import matplotlib.pyplot as plt\n",
    "\n",
    "test_score = []\n",
    "train_score = []\n",
    "\n",
    "# check the model performance for max depth from 2-20\n",
    "for max_depth in range(2, 21):\n",
    "    model = DecisionTreeClassifier(max_depth=max_depth, random_state=rs)\n",
    "    model.fit(X_train, y_train)\n",
    "    \n",
    "    test_score.append(model.score(X_test, y_test))\n",
    "    train_score.append(model.score(X_train, y_train))\n",
    "\n",
    "# plot max depth hyperparameter values vs training and test accuracy score\n",
    "plt.plot(range(2, 21), train_score, 'b', range(2,21), test_score, 'r')\n",
    "plt.xlabel('max_depth\\nBlue = training acc. Red = test acc.')\n",
    "plt.ylabel('accuracy')\n",
    "plt.show()"
   ]
  },
  {
   "cell_type": "code",
   "execution_count": 38,
   "metadata": {},
   "outputs": [
    {
     "name": "stdout",
     "output_type": "stream",
     "text": [
      "Train accuracy: 0.8073337902673063\n",
      "Test accuracy: 0.806332960179114\n",
      "             precision    recall  f1-score   support\n",
      "\n",
      "          0       0.83      0.93      0.88      4713\n",
      "          1       0.67      0.42      0.51      1540\n",
      "\n",
      "avg / total       0.79      0.81      0.79      6253\n",
      "\n",
      "{'max_depth': 4, 'min_samples_leaf': 20, 'criterion': 'gini'}\n"
     ]
    }
   ],
   "source": [
    "#GridSearchCV1\n",
    "\n",
    "from sklearn.model_selection import GridSearchCV\n",
    "\n",
    "params = {'criterion': [\"gini\", \"entropy\"],\n",
    "          \"max_depth\": range(2,7),\n",
    "          \"min_samples_leaf\": range(20, 60, 10)}\n",
    "cv = GridSearchCV(param_grid=params, estimator=DecisionTreeClassifier(random_state=rs), cv=10)\n",
    "cv.fit(X_train, y_train)\n",
    "\n",
    "print(\"Train accuracy:\", cv.score(X_train, y_train))\n",
    "print(\"Test accuracy:\", cv.score(X_test, y_test))\n",
    "\n",
    "# test the best model\n",
    "y_pred = cv.predict(X_test)\n",
    "print(classification_report(y_test, y_pred))\n",
    "\n",
    "# print parameters of the best model\n",
    "print(cv.best_params_)"
   ]
  },
  {
   "cell_type": "code",
   "execution_count": 41,
   "metadata": {},
   "outputs": [
    {
     "name": "stdout",
     "output_type": "stream",
     "text": [
      "Train accuracy: 0.8073337902673063\n",
      "Test accuracy: 0.8060131137054214\n",
      "             precision    recall  f1-score   support\n",
      "\n",
      "          0       0.83      0.93      0.88      4713\n",
      "          1       0.67      0.41      0.51      1540\n",
      "\n",
      "avg / total       0.79      0.81      0.79      6253\n",
      "\n",
      "{'max_depth': 4, 'min_samples_leaf': 8, 'criterion': 'gini'}\n"
     ]
    }
   ],
   "source": [
    "#GridSearchCV2\n",
    "\n",
    "params = {'criterion': [\"gini\", \"entropy\"],\n",
    "          \"max_depth\": range(2,6),\n",
    "          \"min_samples_leaf\": range(1, 10)}\n",
    "cv = GridSearchCV(param_grid=params, estimator=DecisionTreeClassifier(random_state=rs), cv=10)\n",
    "cv.fit(X_train, y_train)\n",
    "\n",
    "print(\"Train accuracy:\", cv.score(X_train, y_train))\n",
    "print(\"Test accuracy:\", cv.score(X_test, y_test))\n",
    "\n",
    "# test the best model\n",
    "y_pred = cv.predict(X_test)\n",
    "print(classification_report(y_test, y_pred))\n",
    "\n",
    "# print parameters of the best model\n",
    "print(cv.best_params_)"
   ]
  },
  {
   "cell_type": "code",
   "execution_count": 67,
   "metadata": {},
   "outputs": [
    {
     "ename": "ImportError",
     "evalue": "cannot import name 'analyse_feature_importance'",
     "output_type": "error",
     "traceback": [
      "\u001b[1;31m---------------------------------------------------------------------------\u001b[0m",
      "\u001b[1;31mImportError\u001b[0m                               Traceback (most recent call last)",
      "\u001b[1;32m<ipython-input-67-142972adb446>\u001b[0m in \u001b[0;36m<module>\u001b[1;34m()\u001b[0m\n\u001b[1;32m----> 1\u001b[1;33m \u001b[1;32mfrom\u001b[0m \u001b[0mdata_preprocessing\u001b[0m \u001b[1;32mimport\u001b[0m \u001b[0manalyse_feature_importance\u001b[0m\u001b[1;33m\u001b[0m\u001b[0m\n\u001b[0m\u001b[0;32m      2\u001b[0m \u001b[1;33m\u001b[0m\u001b[0m\n\u001b[0;32m      3\u001b[0m \u001b[0manalyse_feature_importance\u001b[0m\u001b[1;33m(\u001b[0m\u001b[0mcv\u001b[0m\u001b[1;33m.\u001b[0m\u001b[0mbest_estimator_\u001b[0m\u001b[1;33m,\u001b[0m \u001b[0mX\u001b[0m\u001b[1;33m.\u001b[0m\u001b[0mcolumns\u001b[0m\u001b[1;33m,\u001b[0m \u001b[1;36m5\u001b[0m\u001b[1;33m)\u001b[0m\u001b[1;33m\u001b[0m\u001b[0m\n\u001b[0;32m      4\u001b[0m \u001b[0mvisualize_decision_tree\u001b[0m\u001b[1;33m(\u001b[0m\u001b[0mcv\u001b[0m\u001b[1;33m.\u001b[0m\u001b[0mbest_estimator_\u001b[0m\u001b[1;33m,\u001b[0m \u001b[0mX\u001b[0m\u001b[1;33m.\u001b[0m\u001b[0mcolumns\u001b[0m\u001b[1;33m,\u001b[0m \u001b[1;34m\"optimal_tree.png\"\u001b[0m\u001b[1;33m)\u001b[0m\u001b[1;33m\u001b[0m\u001b[0m\n",
      "\u001b[1;31mImportError\u001b[0m: cannot import name 'analyse_feature_importance'"
     ]
    }
   ],
   "source": [
    "from data_preprocessing import analyse_feature_importance\n",
    "\n",
    "analyse_feature_importance(cv.best_estimator_, X.columns, 5)\n",
    "visualize_decision_tree(cv.best_estimator_, X.columns, \"optimal_tree.png\")"
   ]
  },
  {
   "cell_type": "code",
   "execution_count": 46,
   "metadata": {},
   "outputs": [
    {
     "name": "stdout",
     "output_type": "stream",
     "text": [
      "AGE : 0.6069759598218176\n",
      "AFFL : 0.3886546467283799\n",
      "BILL : 0.0022975291513298653\n",
      "NEIGHBORHOOD_18.0 : 0.002071864298472725\n",
      "NEIGHBORHOOD_10.0 : 0.0\n"
     ]
    },
    {
     "data": {
      "text/plain": [
       "True"
      ]
     },
     "execution_count": 46,
     "metadata": {},
     "output_type": "execute_result"
    }
   ],
   "source": [
    "importances = cv.best_estimator_.feature_importances_\n",
    "feature_names = X.columns\n",
    "\n",
    "indices = np.argsort(importances)\n",
    "indices = np.flip(indices, axis = 0)\n",
    "\n",
    "indices = indices[:5]\n",
    "\n",
    "for i in indices:\n",
    "    print(feature_names[i], \":\", importances[i])\n",
    "\n",
    "#DT VISUALIZATION\n",
    "\n",
    "dotfile = StringIO()\n",
    "export_graphviz(cv.best_estimator_, out_file = dotfile, feature_names = X.columns)\n",
    "graph = pydot.graph_from_dot_data(dotfile.getvalue())\n",
    "graph.write_png(\"assignment_optimal_dt.png\")"
   ]
  },
  {
   "cell_type": "code",
   "execution_count": null,
   "metadata": {},
   "outputs": [],
   "source": []
  }
 ],
 "metadata": {
  "kernelspec": {
   "display_name": "Python 3",
   "language": "python",
   "name": "python3"
  },
  "language_info": {
   "codemirror_mode": {
    "name": "ipython",
    "version": 3
   },
   "file_extension": ".py",
   "mimetype": "text/x-python",
   "name": "python",
   "nbconvert_exporter": "python",
   "pygments_lexer": "ipython3",
   "version": "3.5.4"
  }
 },
 "nbformat": 4,
 "nbformat_minor": 2
}
